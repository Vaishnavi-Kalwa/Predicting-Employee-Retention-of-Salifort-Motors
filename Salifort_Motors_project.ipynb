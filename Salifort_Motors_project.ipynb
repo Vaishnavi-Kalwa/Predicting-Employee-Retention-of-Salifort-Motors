{
  "cells": [
    {
      "cell_type": "markdown",
      "metadata": {
        "id": "ysS5rgTMWpwL"
      },
      "source": [
        "# **Capstone project: Providing data-driven suggestions for HR**"
      ]
    },
    {
      "cell_type": "markdown",
      "metadata": {
        "id": "gLEEr6peWcF7"
      },
      "source": [
        "### Understand the business scenario and problem\n",
        "\n",
        "The HR department at Salifort Motors wants to take some initiatives to improve employee satisfaction levels at the company. They collected data from employees, but now they don’t know what to do with it. They refer to you as a data analytics professional and ask you to provide data-driven suggestions based on your understanding of the data. They have the following question: what’s likely to make the employee leave the company?\n",
        "\n",
        "Your goals in this project are to analyze the data collected by the HR department and to build a model that predicts whether or not an employee will leave the company.\n",
        "\n",
        "If you can predict employees likely to quit, it might be possible to identify factors that contribute to their leaving. Because it is time-consuming and expensive to find, interview, and hire new employees, increasing employee retention will be beneficial to the company."
      ]
    },
    {
      "cell_type": "markdown",
      "metadata": {
        "id": "lnRdR6eacUkK"
      },
      "source": [
        "### Familiarize yourself with the HR dataset\n",
        "\n",
        "The dataset that you'll be using contains 15,000 rows and 10 columns for the variables listed below.\n",
        "\n",
        "Variable  |Description |\n",
        "-----|-----|\n",
        "satisfaction_level|Employee-reported job satisfaction level [0&ndash;1]|\n",
        "last_evaluation|Score of employee's last performance review [0&ndash;1]|\n",
        "number_project|Number of projects employee contributes to|\n",
        "average_monthly_hours|Average number of hours employee worked per month|\n",
        "time_spend_company|How long the employee has been with the company (years)\n",
        "Work_accident|Whether or not the employee experienced an accident while at work\n",
        "left|Whether or not the employee left the company\n",
        "promotion_last_5years|Whether or not the employee was promoted in the last 5 years\n",
        "Department|The employee's department\n",
        "salary|The employee's salary (U.S. dollars)"
      ]
    },
    {
      "cell_type": "markdown",
      "metadata": {
        "id": "Dfnvw1HZsfbd"
      },
      "source": [
        "## Step 1. Imports\n",
        "\n",
        "*   Import packages\n",
        "*   Load dataset\n",
        "\n"
      ]
    },
    {
      "cell_type": "markdown",
      "metadata": {
        "id": "51UAXIOLC_8P"
      },
      "source": [
        "### Import packages"
      ]
    },
    {
      "cell_type": "code",
      "execution_count": null,
      "metadata": {
        "id": "hVWGpX9As4e1"
      },
      "outputs": [],
      "source": [
        "# Import packages\n",
        "import numpy as np\n",
        "import pandas as pd\n",
        "import matplotlib.pyplot as plt\n",
        "import seaborn as sns\n",
        "from sklearn.model_selection import train_test_split\n",
        "from sklearn.linear_model import LogisticRegression\n",
        "from sklearn.metrics import accuracy_score, precision_score, f1_score, recall_score, confusion_matrix, ConfusionMatrixDisplay, classification_report"
      ]
    },
    {
      "cell_type": "markdown",
      "metadata": {
        "id": "zM2P9yLWDIjN"
      },
      "source": [
        "### Load dataset\n",
        "\n",
        "`Pandas` is used to read a dataset called **`HR_capstone_dataset.csv`.**  "
      ]
    },
    {
      "cell_type": "code",
      "execution_count": null,
      "metadata": {
        "id": "Bs0cJR5BDPgQ",
        "outputId": "ddc26472-b5ca-462a-8ca4-a786e20f8fd4"
      },
      "outputs": [
        {
          "data": {
            "text/html": [
              "<div>\n",
              "<style scoped>\n",
              "    .dataframe tbody tr th:only-of-type {\n",
              "        vertical-align: middle;\n",
              "    }\n",
              "\n",
              "    .dataframe tbody tr th {\n",
              "        vertical-align: top;\n",
              "    }\n",
              "\n",
              "    .dataframe thead th {\n",
              "        text-align: right;\n",
              "    }\n",
              "</style>\n",
              "<table border=\"1\" class=\"dataframe\">\n",
              "  <thead>\n",
              "    <tr style=\"text-align: right;\">\n",
              "      <th></th>\n",
              "      <th>satisfaction_level</th>\n",
              "      <th>last_evaluation</th>\n",
              "      <th>number_project</th>\n",
              "      <th>average_montly_hours</th>\n",
              "      <th>time_spend_company</th>\n",
              "      <th>Work_accident</th>\n",
              "      <th>left</th>\n",
              "      <th>promotion_last_5years</th>\n",
              "      <th>Department</th>\n",
              "      <th>salary</th>\n",
              "    </tr>\n",
              "  </thead>\n",
              "  <tbody>\n",
              "    <tr>\n",
              "      <th>0</th>\n",
              "      <td>0.38</td>\n",
              "      <td>0.53</td>\n",
              "      <td>2</td>\n",
              "      <td>157</td>\n",
              "      <td>3</td>\n",
              "      <td>0</td>\n",
              "      <td>1</td>\n",
              "      <td>0</td>\n",
              "      <td>sales</td>\n",
              "      <td>low</td>\n",
              "    </tr>\n",
              "    <tr>\n",
              "      <th>1</th>\n",
              "      <td>0.80</td>\n",
              "      <td>0.86</td>\n",
              "      <td>5</td>\n",
              "      <td>262</td>\n",
              "      <td>6</td>\n",
              "      <td>0</td>\n",
              "      <td>1</td>\n",
              "      <td>0</td>\n",
              "      <td>sales</td>\n",
              "      <td>medium</td>\n",
              "    </tr>\n",
              "    <tr>\n",
              "      <th>2</th>\n",
              "      <td>0.11</td>\n",
              "      <td>0.88</td>\n",
              "      <td>7</td>\n",
              "      <td>272</td>\n",
              "      <td>4</td>\n",
              "      <td>0</td>\n",
              "      <td>1</td>\n",
              "      <td>0</td>\n",
              "      <td>sales</td>\n",
              "      <td>medium</td>\n",
              "    </tr>\n",
              "    <tr>\n",
              "      <th>3</th>\n",
              "      <td>0.72</td>\n",
              "      <td>0.87</td>\n",
              "      <td>5</td>\n",
              "      <td>223</td>\n",
              "      <td>5</td>\n",
              "      <td>0</td>\n",
              "      <td>1</td>\n",
              "      <td>0</td>\n",
              "      <td>sales</td>\n",
              "      <td>low</td>\n",
              "    </tr>\n",
              "    <tr>\n",
              "      <th>4</th>\n",
              "      <td>0.37</td>\n",
              "      <td>0.52</td>\n",
              "      <td>2</td>\n",
              "      <td>159</td>\n",
              "      <td>3</td>\n",
              "      <td>0</td>\n",
              "      <td>1</td>\n",
              "      <td>0</td>\n",
              "      <td>sales</td>\n",
              "      <td>low</td>\n",
              "    </tr>\n",
              "  </tbody>\n",
              "</table>\n",
              "</div>"
            ],
            "text/plain": [
              "   satisfaction_level  last_evaluation  number_project  average_montly_hours  \\\n",
              "0                0.38             0.53               2                   157   \n",
              "1                0.80             0.86               5                   262   \n",
              "2                0.11             0.88               7                   272   \n",
              "3                0.72             0.87               5                   223   \n",
              "4                0.37             0.52               2                   159   \n",
              "\n",
              "   time_spend_company  Work_accident  left  promotion_last_5years Department  \\\n",
              "0                   3              0     1                      0      sales   \n",
              "1                   6              0     1                      0      sales   \n",
              "2                   4              0     1                      0      sales   \n",
              "3                   5              0     1                      0      sales   \n",
              "4                   3              0     1                      0      sales   \n",
              "\n",
              "   salary  \n",
              "0     low  \n",
              "1  medium  \n",
              "2  medium  \n",
              "3     low  \n",
              "4     low  "
            ]
          },
          "execution_count": 2,
          "metadata": {},
          "output_type": "execute_result"
        }
      ],
      "source": [
        "# RUN THIS CELL TO IMPORT YOUR DATA.\n",
        "\n",
        "# Load dataset into a dataframe\n",
        "### YOUR CODE HERE ###\n",
        "df0 = pd.read_csv(\"HR_capstone_dataset.csv\")\n",
        "\n",
        "\n",
        "# Display first few rows of the dataframe\n",
        "df0.head()\n"
      ]
    },
    {
      "cell_type": "markdown",
      "metadata": {
        "id": "wF_LLorPs5G_"
      },
      "source": [
        "## Step 2. Data Exploration (Initial EDA and data cleaning)\n",
        "\n",
        "- Understanding variables\n",
        "- Cleaning dataset if any (missing data, redundant data, outliers)\n",
        "\n"
      ]
    },
    {
      "cell_type": "markdown",
      "metadata": {
        "id": "3LF6h1v9FYz2"
      },
      "source": [
        "### Gather basic information about the data"
      ]
    },
    {
      "cell_type": "code",
      "execution_count": null,
      "metadata": {
        "id": "6XbfdPoKurMf",
        "outputId": "6d05851a-3f73-4f33-83e4-b3dd09e25a22"
      },
      "outputs": [
        {
          "name": "stdout",
          "output_type": "stream",
          "text": [
            "<class 'pandas.core.frame.DataFrame'>\n",
            "RangeIndex: 14999 entries, 0 to 14998\n",
            "Data columns (total 10 columns):\n",
            " #   Column                 Non-Null Count  Dtype  \n",
            "---  ------                 --------------  -----  \n",
            " 0   satisfaction_level     14999 non-null  float64\n",
            " 1   last_evaluation        14999 non-null  float64\n",
            " 2   number_project         14999 non-null  int64  \n",
            " 3   average_montly_hours   14999 non-null  int64  \n",
            " 4   time_spend_company     14999 non-null  int64  \n",
            " 5   Work_accident          14999 non-null  int64  \n",
            " 6   left                   14999 non-null  int64  \n",
            " 7   promotion_last_5years  14999 non-null  int64  \n",
            " 8   Department             14999 non-null  object \n",
            " 9   salary                 14999 non-null  object \n",
            "dtypes: float64(2), int64(6), object(2)\n",
            "memory usage: 1.1+ MB\n",
            "None\n",
            "Shape: (14999, 10)\n"
          ]
        }
      ],
      "source": [
        "# Gather basic information about the data\n",
        "print(df0.info())\n",
        "print('Shape:', df0.shape)\n"
      ]
    },
    {
      "cell_type": "markdown",
      "metadata": {
        "id": "6JMl_rQ1Fgte"
      },
      "source": [
        "### Gather descriptive statistics about the data"
      ]
    },
    {
      "cell_type": "code",
      "execution_count": null,
      "metadata": {
        "id": "_5VRL-kzE8y1",
        "outputId": "051893a1-847f-474e-91aa-6f3201348059"
      },
      "outputs": [
        {
          "data": {
            "text/html": [
              "<div>\n",
              "<style scoped>\n",
              "    .dataframe tbody tr th:only-of-type {\n",
              "        vertical-align: middle;\n",
              "    }\n",
              "\n",
              "    .dataframe tbody tr th {\n",
              "        vertical-align: top;\n",
              "    }\n",
              "\n",
              "    .dataframe thead th {\n",
              "        text-align: right;\n",
              "    }\n",
              "</style>\n",
              "<table border=\"1\" class=\"dataframe\">\n",
              "  <thead>\n",
              "    <tr style=\"text-align: right;\">\n",
              "      <th></th>\n",
              "      <th>satisfaction_level</th>\n",
              "      <th>last_evaluation</th>\n",
              "      <th>number_project</th>\n",
              "      <th>average_montly_hours</th>\n",
              "      <th>time_spend_company</th>\n",
              "      <th>Work_accident</th>\n",
              "      <th>left</th>\n",
              "      <th>promotion_last_5years</th>\n",
              "    </tr>\n",
              "  </thead>\n",
              "  <tbody>\n",
              "    <tr>\n",
              "      <th>count</th>\n",
              "      <td>14999.000000</td>\n",
              "      <td>14999.000000</td>\n",
              "      <td>14999.000000</td>\n",
              "      <td>14999.000000</td>\n",
              "      <td>14999.000000</td>\n",
              "      <td>14999.000000</td>\n",
              "      <td>14999.000000</td>\n",
              "      <td>14999.000000</td>\n",
              "    </tr>\n",
              "    <tr>\n",
              "      <th>mean</th>\n",
              "      <td>0.612834</td>\n",
              "      <td>0.716102</td>\n",
              "      <td>3.803054</td>\n",
              "      <td>201.050337</td>\n",
              "      <td>3.498233</td>\n",
              "      <td>0.144610</td>\n",
              "      <td>0.238083</td>\n",
              "      <td>0.021268</td>\n",
              "    </tr>\n",
              "    <tr>\n",
              "      <th>std</th>\n",
              "      <td>0.248631</td>\n",
              "      <td>0.171169</td>\n",
              "      <td>1.232592</td>\n",
              "      <td>49.943099</td>\n",
              "      <td>1.460136</td>\n",
              "      <td>0.351719</td>\n",
              "      <td>0.425924</td>\n",
              "      <td>0.144281</td>\n",
              "    </tr>\n",
              "    <tr>\n",
              "      <th>min</th>\n",
              "      <td>0.090000</td>\n",
              "      <td>0.360000</td>\n",
              "      <td>2.000000</td>\n",
              "      <td>96.000000</td>\n",
              "      <td>2.000000</td>\n",
              "      <td>0.000000</td>\n",
              "      <td>0.000000</td>\n",
              "      <td>0.000000</td>\n",
              "    </tr>\n",
              "    <tr>\n",
              "      <th>25%</th>\n",
              "      <td>0.440000</td>\n",
              "      <td>0.560000</td>\n",
              "      <td>3.000000</td>\n",
              "      <td>156.000000</td>\n",
              "      <td>3.000000</td>\n",
              "      <td>0.000000</td>\n",
              "      <td>0.000000</td>\n",
              "      <td>0.000000</td>\n",
              "    </tr>\n",
              "    <tr>\n",
              "      <th>50%</th>\n",
              "      <td>0.640000</td>\n",
              "      <td>0.720000</td>\n",
              "      <td>4.000000</td>\n",
              "      <td>200.000000</td>\n",
              "      <td>3.000000</td>\n",
              "      <td>0.000000</td>\n",
              "      <td>0.000000</td>\n",
              "      <td>0.000000</td>\n",
              "    </tr>\n",
              "    <tr>\n",
              "      <th>75%</th>\n",
              "      <td>0.820000</td>\n",
              "      <td>0.870000</td>\n",
              "      <td>5.000000</td>\n",
              "      <td>245.000000</td>\n",
              "      <td>4.000000</td>\n",
              "      <td>0.000000</td>\n",
              "      <td>0.000000</td>\n",
              "      <td>0.000000</td>\n",
              "    </tr>\n",
              "    <tr>\n",
              "      <th>max</th>\n",
              "      <td>1.000000</td>\n",
              "      <td>1.000000</td>\n",
              "      <td>7.000000</td>\n",
              "      <td>310.000000</td>\n",
              "      <td>10.000000</td>\n",
              "      <td>1.000000</td>\n",
              "      <td>1.000000</td>\n",
              "      <td>1.000000</td>\n",
              "    </tr>\n",
              "  </tbody>\n",
              "</table>\n",
              "</div>"
            ],
            "text/plain": [
              "       satisfaction_level  last_evaluation  number_project  \\\n",
              "count        14999.000000     14999.000000    14999.000000   \n",
              "mean             0.612834         0.716102        3.803054   \n",
              "std              0.248631         0.171169        1.232592   \n",
              "min              0.090000         0.360000        2.000000   \n",
              "25%              0.440000         0.560000        3.000000   \n",
              "50%              0.640000         0.720000        4.000000   \n",
              "75%              0.820000         0.870000        5.000000   \n",
              "max              1.000000         1.000000        7.000000   \n",
              "\n",
              "       average_montly_hours  time_spend_company  Work_accident          left  \\\n",
              "count          14999.000000        14999.000000   14999.000000  14999.000000   \n",
              "mean             201.050337            3.498233       0.144610      0.238083   \n",
              "std               49.943099            1.460136       0.351719      0.425924   \n",
              "min               96.000000            2.000000       0.000000      0.000000   \n",
              "25%              156.000000            3.000000       0.000000      0.000000   \n",
              "50%              200.000000            3.000000       0.000000      0.000000   \n",
              "75%              245.000000            4.000000       0.000000      0.000000   \n",
              "max              310.000000           10.000000       1.000000      1.000000   \n",
              "\n",
              "       promotion_last_5years  \n",
              "count           14999.000000  \n",
              "mean                0.021268  \n",
              "std                 0.144281  \n",
              "min                 0.000000  \n",
              "25%                 0.000000  \n",
              "50%                 0.000000  \n",
              "75%                 0.000000  \n",
              "max                 1.000000  "
            ]
          },
          "execution_count": 4,
          "metadata": {},
          "output_type": "execute_result"
        }
      ],
      "source": [
        "# Gather descriptive statistics about the data\n",
        "df0.describe()"
      ]
    },
    {
      "cell_type": "markdown",
      "metadata": {
        "id": "QR7eFNU0FklJ"
      },
      "source": [
        "### Rename columns"
      ]
    },
    {
      "cell_type": "markdown",
      "metadata": {
        "id": "_TtE0JLPJyLF"
      },
      "source": [
        "As a data cleaning step, rename the columns as needed. Standardize the column names so that they are all in `snake_case`, correct any column names that are misspelled, and make column names more concise as needed."
      ]
    },
    {
      "cell_type": "code",
      "execution_count": null,
      "metadata": {
        "id": "kEn21u2bqrEI",
        "outputId": "46245e48-6f87-4244-c409-55bde27bb5be"
      },
      "outputs": [
        {
          "data": {
            "text/plain": [
              "Index(['satisfaction_level', 'last_evaluation', 'number_project',\n",
              "       'average_montly_hours', 'time_spend_company', 'Work_accident', 'left',\n",
              "       'promotion_last_5years', 'Department', 'salary'],\n",
              "      dtype='object')"
            ]
          },
          "execution_count": 5,
          "metadata": {},
          "output_type": "execute_result"
        }
      ],
      "source": [
        "# Display all column names\n",
        "df0.columns\n"
      ]
    },
    {
      "cell_type": "code",
      "execution_count": null,
      "metadata": {
        "id": "npUQA8jMFJQD",
        "outputId": "ba8d8ed5-f28d-452f-8e5c-938fb277f1ab"
      },
      "outputs": [
        {
          "data": {
            "text/plain": [
              "Index(['satisfaction_level', 'last_evaluation', 'Projects', 'avg_hours',\n",
              "       'Tenure', 'Work_accident', 'left', 'Promoted', 'Department', 'salary'],\n",
              "      dtype='object')"
            ]
          },
          "execution_count": 6,
          "metadata": {},
          "output_type": "execute_result"
        }
      ],
      "source": [
        "# Rename columns as needed\n",
        "columns = {'average_montly_hours':'avg_hours','time_spend_company':'Tenure','promotion_last_5years':'Promoted','number_project':'Projects'}\n",
        "df0 = df0.rename(columns=columns)\n",
        "\n",
        "\n",
        "# Display all column names after the update\n",
        "\n",
        "df0.columns"
      ]
    },
    {
      "cell_type": "markdown",
      "metadata": {
        "id": "e-G2QlQxBq__"
      },
      "source": [
        "### Check missing values"
      ]
    },
    {
      "cell_type": "markdown",
      "metadata": {
        "id": "GeiUUqeaBt-I"
      },
      "source": [
        "Check for any missing values in the data."
      ]
    },
    {
      "cell_type": "code",
      "execution_count": null,
      "metadata": {
        "id": "EN9MvN0GByVV",
        "outputId": "0a27de25-33de-4dd1-c1dd-f7fedbdfb779"
      },
      "outputs": [
        {
          "data": {
            "text/plain": [
              "satisfaction_level    0\n",
              "last_evaluation       0\n",
              "Projects              0\n",
              "avg_hours             0\n",
              "Tenure                0\n",
              "Work_accident         0\n",
              "left                  0\n",
              "Promoted              0\n",
              "Department            0\n",
              "salary                0\n",
              "dtype: int64"
            ]
          },
          "execution_count": 7,
          "metadata": {},
          "output_type": "execute_result"
        }
      ],
      "source": [
        "# Check for missing values\n",
        "df0.isna().sum()\n"
      ]
    },
    {
      "cell_type": "markdown",
      "metadata": {
        "id": "hBvrijItKQI9"
      },
      "source": [
        "### Check duplicates"
      ]
    },
    {
      "cell_type": "markdown",
      "metadata": {
        "id": "Q7ystBsdsGaL"
      },
      "source": [
        "Check for any duplicate entries in the data."
      ]
    },
    {
      "cell_type": "code",
      "execution_count": null,
      "metadata": {
        "id": "CFFLc5AOZ7-x",
        "outputId": "0d5e406e-8a47-4673-a344-d8ff0927d220"
      },
      "outputs": [
        {
          "data": {
            "text/plain": [
              "3008"
            ]
          },
          "execution_count": 8,
          "metadata": {},
          "output_type": "execute_result"
        }
      ],
      "source": [
        "# Check for duplicates\n",
        "duplicates = df0.duplicated()\n",
        "duplicates.sum()"
      ]
    },
    {
      "cell_type": "code",
      "execution_count": null,
      "metadata": {
        "id": "ZHGlDbKAcBLM",
        "outputId": "2dbcbb1c-1ee9-4882-e2b1-fe412f3969ca"
      },
      "outputs": [
        {
          "data": {
            "text/html": [
              "<div>\n",
              "<style scoped>\n",
              "    .dataframe tbody tr th:only-of-type {\n",
              "        vertical-align: middle;\n",
              "    }\n",
              "\n",
              "    .dataframe tbody tr th {\n",
              "        vertical-align: top;\n",
              "    }\n",
              "\n",
              "    .dataframe thead th {\n",
              "        text-align: right;\n",
              "    }\n",
              "</style>\n",
              "<table border=\"1\" class=\"dataframe\">\n",
              "  <thead>\n",
              "    <tr style=\"text-align: right;\">\n",
              "      <th></th>\n",
              "      <th>satisfaction_level</th>\n",
              "      <th>last_evaluation</th>\n",
              "      <th>Projects</th>\n",
              "      <th>avg_hours</th>\n",
              "      <th>Tenure</th>\n",
              "      <th>Work_accident</th>\n",
              "      <th>left</th>\n",
              "      <th>Promoted</th>\n",
              "      <th>Department</th>\n",
              "      <th>salary</th>\n",
              "    </tr>\n",
              "  </thead>\n",
              "  <tbody>\n",
              "    <tr>\n",
              "      <th>396</th>\n",
              "      <td>0.46</td>\n",
              "      <td>0.57</td>\n",
              "      <td>2</td>\n",
              "      <td>139</td>\n",
              "      <td>3</td>\n",
              "      <td>0</td>\n",
              "      <td>1</td>\n",
              "      <td>0</td>\n",
              "      <td>sales</td>\n",
              "      <td>low</td>\n",
              "    </tr>\n",
              "    <tr>\n",
              "      <th>866</th>\n",
              "      <td>0.41</td>\n",
              "      <td>0.46</td>\n",
              "      <td>2</td>\n",
              "      <td>128</td>\n",
              "      <td>3</td>\n",
              "      <td>0</td>\n",
              "      <td>1</td>\n",
              "      <td>0</td>\n",
              "      <td>accounting</td>\n",
              "      <td>low</td>\n",
              "    </tr>\n",
              "    <tr>\n",
              "      <th>1317</th>\n",
              "      <td>0.37</td>\n",
              "      <td>0.51</td>\n",
              "      <td>2</td>\n",
              "      <td>127</td>\n",
              "      <td>3</td>\n",
              "      <td>0</td>\n",
              "      <td>1</td>\n",
              "      <td>0</td>\n",
              "      <td>sales</td>\n",
              "      <td>medium</td>\n",
              "    </tr>\n",
              "    <tr>\n",
              "      <th>1368</th>\n",
              "      <td>0.41</td>\n",
              "      <td>0.52</td>\n",
              "      <td>2</td>\n",
              "      <td>132</td>\n",
              "      <td>3</td>\n",
              "      <td>0</td>\n",
              "      <td>1</td>\n",
              "      <td>0</td>\n",
              "      <td>RandD</td>\n",
              "      <td>low</td>\n",
              "    </tr>\n",
              "    <tr>\n",
              "      <th>1461</th>\n",
              "      <td>0.42</td>\n",
              "      <td>0.53</td>\n",
              "      <td>2</td>\n",
              "      <td>142</td>\n",
              "      <td>3</td>\n",
              "      <td>0</td>\n",
              "      <td>1</td>\n",
              "      <td>0</td>\n",
              "      <td>sales</td>\n",
              "      <td>low</td>\n",
              "    </tr>\n",
              "  </tbody>\n",
              "</table>\n",
              "</div>"
            ],
            "text/plain": [
              "      satisfaction_level  last_evaluation  Projects  avg_hours  Tenure  \\\n",
              "396                 0.46             0.57         2        139       3   \n",
              "866                 0.41             0.46         2        128       3   \n",
              "1317                0.37             0.51         2        127       3   \n",
              "1368                0.41             0.52         2        132       3   \n",
              "1461                0.42             0.53         2        142       3   \n",
              "\n",
              "      Work_accident  left  Promoted  Department  salary  \n",
              "396               0     1         0       sales     low  \n",
              "866               0     1         0  accounting     low  \n",
              "1317              0     1         0       sales  medium  \n",
              "1368              0     1         0       RandD     low  \n",
              "1461              0     1         0       sales     low  "
            ]
          },
          "execution_count": 9,
          "metadata": {},
          "output_type": "execute_result"
        }
      ],
      "source": [
        "# Inspect some rows containing duplicates as needed\n",
        "df0[duplicates].head()\n"
      ]
    },
    {
      "cell_type": "code",
      "execution_count": null,
      "metadata": {
        "id": "wCr34Rppdjay",
        "outputId": "24ac12e7-f799-4db5-95d9-c0e52403f451"
      },
      "outputs": [
        {
          "data": {
            "text/html": [
              "<div>\n",
              "<style scoped>\n",
              "    .dataframe tbody tr th:only-of-type {\n",
              "        vertical-align: middle;\n",
              "    }\n",
              "\n",
              "    .dataframe tbody tr th {\n",
              "        vertical-align: top;\n",
              "    }\n",
              "\n",
              "    .dataframe thead th {\n",
              "        text-align: right;\n",
              "    }\n",
              "</style>\n",
              "<table border=\"1\" class=\"dataframe\">\n",
              "  <thead>\n",
              "    <tr style=\"text-align: right;\">\n",
              "      <th></th>\n",
              "      <th>satisfaction_level</th>\n",
              "      <th>last_evaluation</th>\n",
              "      <th>Projects</th>\n",
              "      <th>avg_hours</th>\n",
              "      <th>Tenure</th>\n",
              "      <th>Work_accident</th>\n",
              "      <th>left</th>\n",
              "      <th>Promoted</th>\n",
              "      <th>Department</th>\n",
              "      <th>salary</th>\n",
              "    </tr>\n",
              "  </thead>\n",
              "  <tbody>\n",
              "    <tr>\n",
              "      <th>0</th>\n",
              "      <td>0.38</td>\n",
              "      <td>0.53</td>\n",
              "      <td>2</td>\n",
              "      <td>157</td>\n",
              "      <td>3</td>\n",
              "      <td>0</td>\n",
              "      <td>1</td>\n",
              "      <td>0</td>\n",
              "      <td>sales</td>\n",
              "      <td>low</td>\n",
              "    </tr>\n",
              "    <tr>\n",
              "      <th>1</th>\n",
              "      <td>0.80</td>\n",
              "      <td>0.86</td>\n",
              "      <td>5</td>\n",
              "      <td>262</td>\n",
              "      <td>6</td>\n",
              "      <td>0</td>\n",
              "      <td>1</td>\n",
              "      <td>0</td>\n",
              "      <td>sales</td>\n",
              "      <td>medium</td>\n",
              "    </tr>\n",
              "    <tr>\n",
              "      <th>2</th>\n",
              "      <td>0.11</td>\n",
              "      <td>0.88</td>\n",
              "      <td>7</td>\n",
              "      <td>272</td>\n",
              "      <td>4</td>\n",
              "      <td>0</td>\n",
              "      <td>1</td>\n",
              "      <td>0</td>\n",
              "      <td>sales</td>\n",
              "      <td>medium</td>\n",
              "    </tr>\n",
              "    <tr>\n",
              "      <th>3</th>\n",
              "      <td>0.72</td>\n",
              "      <td>0.87</td>\n",
              "      <td>5</td>\n",
              "      <td>223</td>\n",
              "      <td>5</td>\n",
              "      <td>0</td>\n",
              "      <td>1</td>\n",
              "      <td>0</td>\n",
              "      <td>sales</td>\n",
              "      <td>low</td>\n",
              "    </tr>\n",
              "    <tr>\n",
              "      <th>4</th>\n",
              "      <td>0.37</td>\n",
              "      <td>0.52</td>\n",
              "      <td>2</td>\n",
              "      <td>159</td>\n",
              "      <td>3</td>\n",
              "      <td>0</td>\n",
              "      <td>1</td>\n",
              "      <td>0</td>\n",
              "      <td>sales</td>\n",
              "      <td>low</td>\n",
              "    </tr>\n",
              "  </tbody>\n",
              "</table>\n",
              "</div>"
            ],
            "text/plain": [
              "   satisfaction_level  last_evaluation  Projects  avg_hours  Tenure  \\\n",
              "0                0.38             0.53         2        157       3   \n",
              "1                0.80             0.86         5        262       6   \n",
              "2                0.11             0.88         7        272       4   \n",
              "3                0.72             0.87         5        223       5   \n",
              "4                0.37             0.52         2        159       3   \n",
              "\n",
              "   Work_accident  left  Promoted Department  salary  \n",
              "0              0     1         0      sales     low  \n",
              "1              0     1         0      sales  medium  \n",
              "2              0     1         0      sales  medium  \n",
              "3              0     1         0      sales     low  \n",
              "4              0     1         0      sales     low  "
            ]
          },
          "execution_count": 10,
          "metadata": {},
          "output_type": "execute_result"
        }
      ],
      "source": [
        "# Drop duplicates and save resulting dataframe in a new variable as needed\n",
        "df = df0.drop_duplicates(keep='first')\n",
        "\n",
        "# Display first few rows of new dataframe as needed\n",
        "df.head()\n"
      ]
    },
    {
      "cell_type": "markdown",
      "metadata": {
        "id": "4knHIoTIFu83"
      },
      "source": [
        "### Check outliers"
      ]
    },
    {
      "cell_type": "markdown",
      "metadata": {
        "id": "EaVx2fk8GC_m"
      },
      "source": [
        "Check for outliers in the data."
      ]
    },
    {
      "cell_type": "code",
      "execution_count": null,
      "metadata": {
        "id": "pilaGYgh4LHM",
        "outputId": "aba48d3b-3666-4385-d926-cd84f5c139e9"
      },
      "outputs": [
        {
          "data": {
            "text/plain": [
              "<matplotlib.axes._subplots.AxesSubplot at 0x7a8e764866d0>"
            ]
          },
          "execution_count": 11,
          "metadata": {},
          "output_type": "execute_result"
        },
        {
          "data": {
            "image/png": "[encoded data removed]",
            "text/plain": [
              "<Figure size 432x288 with 1 Axes>"
            ]
          },
          "metadata": {
            "needs_background": "light"
          },
          "output_type": "display_data"
        }
      ],
      "source": [
        "# Create a boxplot to visualize distribution of `tenure` and detect any outliers\n",
        "sns.boxplot(df['Tenure'])\n"
      ]
    },
    {
      "cell_type": "code",
      "execution_count": null,
      "metadata": {
        "id": "ohctgiHyFykI",
        "outputId": "6a17f23f-5153-4d16-d367-de85e790ac3e"
      },
      "outputs": [
        {
          "data": {
            "text/plain": [
              "(824, 10)"
            ]
          },
          "execution_count": 12,
          "metadata": {},
          "output_type": "execute_result"
        }
      ],
      "source": [
        "# Determine the number of rows containing outliers\n",
        "q3 = df['Tenure'].quantile(0.75)\n",
        "q1 = df['Tenure'].quantile(0.25)\n",
        "IQR = q3-q1\n",
        "upp_lmt = q3+1.5*IQR\n",
        "lwr_lmt = q1-1.5*IQR\n",
        "mask = (df['Tenure'] > upp_lmt) | (df['Tenure'] < lwr_lmt)\n",
        "df[mask].shape\n",
        "\n"
      ]
    },
    {
      "cell_type": "code",
      "execution_count": null,
      "metadata": {
        "id": "47GtEN-G3_Yz",
        "outputId": "947e9ad8-9d4e-4a27-baa5-680ad8234d06"
      },
      "outputs": [
        {
          "data": {
            "text/plain": [
              "6941"
            ]
          },
          "execution_count": 13,
          "metadata": {},
          "output_type": "execute_result"
        }
      ],
      "source": [
        "(df['satisfaction_level'] >= 0.61 ).sum()"
      ]
    },
    {
      "cell_type": "code",
      "execution_count": null,
      "metadata": {
        "id": "PDFxX3lo3_Y0",
        "outputId": "82d87d27-743d-43eb-f7bf-15495526c672"
      },
      "outputs": [
        {
          "data": {
            "text/plain": [
              "57.88508047702443"
            ]
          },
          "execution_count": 14,
          "metadata": {},
          "output_type": "execute_result"
        }
      ],
      "source": [
        "6941/11991*100"
      ]
    },
    {
      "cell_type": "code",
      "execution_count": null,
      "metadata": {
        "id": "A9Z_Ebpz3_Y0",
        "outputId": "47d1278e-d8ae-4581-ee9f-d6c6453a340b"
      },
      "outputs": [
        {
          "data": {
            "text/plain": [
              "salary\n",
              "high       44\n",
              "low        38\n",
              "medium    121\n",
              "Name: Promoted, dtype: int64"
            ]
          },
          "execution_count": 15,
          "metadata": {},
          "output_type": "execute_result"
        }
      ],
      "source": [
        "df.groupby('salary')['Promoted'].sum()"
      ]
    },
    {
      "cell_type": "code",
      "execution_count": null,
      "metadata": {
        "id": "pKUCbZJj3_Y1",
        "outputId": "c95b2dee-0693-4f70-8d5c-8e215edb6cf9"
      },
      "outputs": [
        {
          "data": {
            "text/html": [
              "<div>\n",
              "<style scoped>\n",
              "    .dataframe tbody tr th:only-of-type {\n",
              "        vertical-align: middle;\n",
              "    }\n",
              "\n",
              "    .dataframe tbody tr th {\n",
              "        vertical-align: top;\n",
              "    }\n",
              "\n",
              "    .dataframe thead th {\n",
              "        text-align: right;\n",
              "    }\n",
              "</style>\n",
              "<table border=\"1\" class=\"dataframe\">\n",
              "  <thead>\n",
              "    <tr style=\"text-align: right;\">\n",
              "      <th></th>\n",
              "      <th>left</th>\n",
              "      <th>Promoted</th>\n",
              "    </tr>\n",
              "    <tr>\n",
              "      <th>Tenure</th>\n",
              "      <th></th>\n",
              "      <th></th>\n",
              "    </tr>\n",
              "  </thead>\n",
              "  <tbody>\n",
              "    <tr>\n",
              "      <th>2</th>\n",
              "      <td>31</td>\n",
              "      <td>39</td>\n",
              "    </tr>\n",
              "    <tr>\n",
              "      <th>3</th>\n",
              "      <td>874</td>\n",
              "      <td>89</td>\n",
              "    </tr>\n",
              "    <tr>\n",
              "      <th>4</th>\n",
              "      <td>495</td>\n",
              "      <td>22</td>\n",
              "    </tr>\n",
              "    <tr>\n",
              "      <th>5</th>\n",
              "      <td>482</td>\n",
              "      <td>11</td>\n",
              "    </tr>\n",
              "    <tr>\n",
              "      <th>6</th>\n",
              "      <td>109</td>\n",
              "      <td>11</td>\n",
              "    </tr>\n",
              "    <tr>\n",
              "      <th>7</th>\n",
              "      <td>0</td>\n",
              "      <td>18</td>\n",
              "    </tr>\n",
              "    <tr>\n",
              "      <th>8</th>\n",
              "      <td>0</td>\n",
              "      <td>5</td>\n",
              "    </tr>\n",
              "    <tr>\n",
              "      <th>10</th>\n",
              "      <td>0</td>\n",
              "      <td>8</td>\n",
              "    </tr>\n",
              "  </tbody>\n",
              "</table>\n",
              "</div>"
            ],
            "text/plain": [
              "        left  Promoted\n",
              "Tenure                \n",
              "2         31        39\n",
              "3        874        89\n",
              "4        495        22\n",
              "5        482        11\n",
              "6        109        11\n",
              "7          0        18\n",
              "8          0         5\n",
              "10         0         8"
            ]
          },
          "execution_count": 16,
          "metadata": {},
          "output_type": "execute_result"
        }
      ],
      "source": [
        "df.groupby(['Tenure'])[['left','Promoted']].sum()"
      ]
    },
    {
      "cell_type": "markdown",
      "metadata": {
        "id": "EAfj2mxlHyO3"
      },
      "source": [
        "**Insights from step 1**\n",
        "1. There were 10 features each with 14999 rows with no missing values but there\n",
        "were so many duplicated records.\n",
        "2. There were 57.8% of employees were rated above mean satisfaction level of all employees, 44 members with high salary got promoted and 121 with medium salary and 38 employees with low salary got promoted.\n",
        "3. Total of Approx 2% employees only got promoted.\n",
        "4. Most of the employees who left are, those tenure period is between 2-6 years no employee whose tenure is greater than 6 years weren't left the company.\n",
        "\n",
        "\n",
        "\n",
        "\n",
        "\n",
        "\n",
        "\n",
        "\n"
      ]
    },
    {
      "cell_type": "markdown",
      "metadata": {
        "id": "KDcWrk57kao2"
      },
      "source": [
        "## Step 2. Data Exploration (Continue EDA)\n",
        "\n",
        "Begin by understanding how many employees left and what percentage of all employees this figure represents."
      ]
    },
    {
      "cell_type": "code",
      "execution_count": null,
      "metadata": {
        "id": "p7ahOQGD3_ZB",
        "outputId": "f268b259-d7f0-4677-d028-afa1f66232ac"
      },
      "outputs": [
        {
          "data": {
            "text/plain": [
              "False    83.39588\n",
              "True     16.60412\n",
              "Name: left, dtype: float64"
            ]
          },
          "execution_count": 17,
          "metadata": {},
          "output_type": "execute_result"
        }
      ],
      "source": [
        "# Get numbers of people who left vs. stayed\n",
        "df['left'].value_counts()\n",
        "\n",
        "# Get percentages of people who left vs. stayed\n",
        "(df['left'] == 1).value_counts()/df.shape[0]*100"
      ]
    },
    {
      "cell_type": "markdown",
      "metadata": {
        "id": "DmVMzXPSuYk1"
      },
      "source": [
        "### Data visualizations"
      ]
    },
    {
      "cell_type": "markdown",
      "metadata": {
        "id": "_hw4qkZzBr-W"
      },
      "source": [
        "Now, examine variables that you're interested in, and create plots to visualize relationships between variables in the data."
      ]
    },
    {
      "cell_type": "code",
      "execution_count": null,
      "metadata": {
        "id": "Qf0VbjX8-DBQ",
        "outputId": "3d1aeaac-fdc4-48c4-8e3b-378973d5cff1"
      },
      "outputs": [
        {
          "data": {
            "text/plain": [
              "Text(0.5, 1.0, 'Categorical Plot of Employees Left')"
            ]
          },
          "execution_count": 18,
          "metadata": {},
          "output_type": "execute_result"
        },
        {
          "data": {
            "image/png": "[encoded data removed]",
            "text/plain": [
              "<Figure size 437x360 with 1 Axes>"
            ]
          },
          "metadata": {
            "needs_background": "light"
          },
          "output_type": "display_data"
        }
      ],
      "source": [
        "# Create a plot as needed\n",
        "sns.catplot(data=df,x='left', hue='salary', kind='count', palette='rocket')\n",
        "plt.title('Categorical Plot of Employees Left')"
      ]
    },
    {
      "cell_type": "code",
      "execution_count": null,
      "metadata": {
        "id": "F8HlhjMy9X3A",
        "outputId": "c1060585-c5bc-429e-d0ca-aabca9dc631f"
      },
      "outputs": [
        {
          "data": {
            "text/plain": [
              "Text(0.5, 1.0, 'Count plot of Employees Promoted/Number of persons left')"
            ]
          },
          "execution_count": 19,
          "metadata": {},
          "output_type": "execute_result"
        },
        {
          "data": {
            "image/png": "[encoded data removed]",
            "text/plain": [
              "<Figure size 432x288 with 1 Axes>"
            ]
          },
          "metadata": {
            "needs_background": "light"
          },
          "output_type": "display_data"
        }
      ],
      "source": [
        "# Create a plot as needed\n",
        "sns.countplot(x='Promoted', data=df, hue = 'left', palette='viridis')\n",
        "plt.title('Count plot of Employees Promoted/Number of persons left', fontsize=12, fontweight='bold')"
      ]
    },
    {
      "cell_type": "code",
      "execution_count": null,
      "metadata": {
        "id": "NUyBruMee-EI",
        "outputId": "ef553adf-48f8-4d80-bc5e-91c1526e04a3"
      },
      "outputs": [
        {
          "data": {
            "text/plain": [
              "<matplotlib.axes._subplots.AxesSubplot at 0x7a8e7405dd50>"
            ]
          },
          "execution_count": 20,
          "metadata": {},
          "output_type": "execute_result"
        },
        {
          "data": {
            "image/png": "[encoded data removed]",
            "text/plain": [
              "<Figure size 432x288 with 1 Axes>"
            ]
          },
          "metadata": {
            "needs_background": "light"
          },
          "output_type": "display_data"
        }
      ],
      "source": [
        "# Create a plot as needed\n",
        "sns.histplot(data=df, x='satisfaction_level', hue='left', palette='mako')\n"
      ]
    },
    {
      "cell_type": "code",
      "execution_count": null,
      "metadata": {
        "id": "3v1uJR5y3MEy",
        "outputId": "e4abfce1-807b-4945-9266-e2e0d19b9268"
      },
      "outputs": [
        {
          "data": {
            "text/plain": [
              "(array([0, 1, 2, 3, 4, 5, 6, 7, 8, 9]),\n",
              " <a list of 10 Text major ticklabel objects>)"
            ]
          },
          "execution_count": 21,
          "metadata": {},
          "output_type": "execute_result"
        },
        {
          "data": {
            "text/plain": [
              "<Figure size 720x576 with 0 Axes>"
            ]
          },
          "metadata": {},
          "output_type": "display_data"
        },
        {
          "data": {
            "image/png": "[encoded data removed]",
            "text/plain": [
              "<Figure size 402.375x360 with 1 Axes>"
            ]
          },
          "metadata": {
            "needs_background": "light"
          },
          "output_type": "display_data"
        }
      ],
      "source": [
        "# Create a plot as needed\n",
        "plt.figure(figsize=(10,8))\n",
        "sns.catplot(x='Department', data=df, hue='left', kind='count', palette='colorblind')\n",
        "plt.title('Categorical plot of Department-Wise Retention')\n",
        "plt.xticks(rotation=90)"
      ]
    },
    {
      "cell_type": "code",
      "execution_count": null,
      "metadata": {
        "id": "UCVs81NILbhn",
        "outputId": "2336ed92-0c2f-4e67-da53-bec18b4f9131"
      },
      "outputs": [
        {
          "data": {
            "text/plain": [
              "Text(0.5, 1.0, 'Average Monthly Hours by Tenure and Retention')"
            ]
          },
          "execution_count": 22,
          "metadata": {},
          "output_type": "execute_result"
        },
        {
          "data": {
            "image/png": "[encoded data removed]",
            "text/plain": [
              "<Figure size 720x576 with 1 Axes>"
            ]
          },
          "metadata": {
            "needs_background": "light"
          },
          "output_type": "display_data"
        }
      ],
      "source": [
        "# Create a plot as needed\n",
        "plt.figure(figsize=(10,8))\n",
        "sns.boxplot(data=df, x='avg_hours',y='Tenure', hue='left', orient='h')\n",
        "plt.title('Average Monthly Hours by Tenure and Retention', fontsize=12, fontweight='bold')"
      ]
    },
    {
      "cell_type": "code",
      "execution_count": null,
      "metadata": {
        "id": "C5yYx2Zm3_ZE",
        "outputId": "3e40c0d3-f865-41b2-87a3-c2772c696a55"
      },
      "outputs": [
        {
          "data": {
            "text/plain": [
              "<matplotlib.axes._subplots.AxesSubplot at 0x7a8e73b4db90>"
            ]
          },
          "execution_count": 23,
          "metadata": {},
          "output_type": "execute_result"
        },
        {
          "data": {
            "image/png": "[encoded data removed]",
            "text/plain": [
              "<Figure size 432x288 with 2 Axes>"
            ]
          },
          "metadata": {
            "needs_background": "light"
          },
          "output_type": "display_data"
        }
      ],
      "source": [
        "sns.heatmap(df.corr(), cmap='Blues', annot=True, fmt='.2f')"
      ]
    },
    {
      "cell_type": "markdown",
      "metadata": {
        "id": "DeTmNVlAANLd"
      },
      "source": [
        "### Insights From Step 2"
      ]
    },
    {
      "cell_type": "markdown",
      "metadata": {
        "id": "sQT8YqymD-yL"
      },
      "source": [
        "Employees with low salary were the people who left more, while there were more employees who doesn't left and stayed in the company.\n",
        "Promotion percentage was very low eventhough most of the employees who left are not promoted.\n",
        "Employees whose satisfaction level is low were the employees who left more.\n",
        "Employees who left are more from sales department.\n",
        "Employees whose average monthly hours are high and whose tenure(number of years worked with the company) is between 2-6 years.\n",
        "Number of persons left and satisfaction, Promoted have negative relationship whereas number of persons left and project, average hours, tenure have positive relationship."
      ]
    },
    {
      "cell_type": "markdown",
      "metadata": {
        "id": "Bf2BU6B1QmTg"
      },
      "source": [
        "🔎\n",
        "## Recall model assumptions\n",
        "\n",
        "**Logistic Regression model assumptions**\n",
        "- Outcome variable is categorical\n",
        "- Observations are independent of each other\n",
        "- No severe multicollinearity among X variables\n",
        "- No extreme outliers\n",
        "- Linear relationship between each X variable and the logit of the outcome variable\n",
        "- Sufficiently large sample size\n",
        "\n",
        "\n",
        "\n"
      ]
    },
    {
      "cell_type": "markdown",
      "metadata": {
        "id": "ZDG9v-NCS69j"
      },
      "source": [
        "## Step 3. Model Building\n",
        "- Fit a model that predicts the outcome variable using two or more independent variables\n",
        "- Check model assumptions\n",
        "- Evaluate the model"
      ]
    },
    {
      "cell_type": "markdown",
      "metadata": {
        "id": "QxCXjdpSaB8A"
      },
      "source": [
        "### Identify the type of prediction task."
      ]
    },
    {
      "cell_type": "markdown",
      "metadata": {
        "id": "YcCoHhnKcEov"
      },
      "source": [
        "The data is a classification model, that is a binary type. In present project the person left is an outcome variable where person left is coded as 1 and person stayed is coded as 0."
      ]
    },
    {
      "cell_type": "markdown",
      "metadata": {
        "id": "yeUlo3W0ais-"
      },
      "source": [
        "### Identify the types of models most appropriate for this task."
      ]
    },
    {
      "cell_type": "markdown",
      "metadata": {
        "id": "A0Mo6f9tOchC"
      },
      "source": [
        "There are various classification models like logistic regression, decision tree and random forest and ensemble models for these types of projects."
      ]
    },
    {
      "cell_type": "markdown",
      "metadata": {
        "id": "OrW2oXy4OfD1"
      },
      "source": [
        "### Modeling\n",
        "\n"
      ]
    },
    {
      "cell_type": "markdown",
      "metadata": {
        "id": "m77qvz5A3_ZG"
      },
      "source": [
        "Feature Selection:\n",
        "The target variable is Left and independent variables are tenure, projects, average hours, salary, last_evaluation, promoted"
      ]
    },
    {
      "cell_type": "markdown",
      "metadata": {
        "id": "Jr92ARj83_ZG"
      },
      "source": [
        "To perform logistic regression the categorical data should be in the form of numerically encoded. We have to convert those categorical data to numeric. Salary is categorical which is ordinal. So we have to encode that feature."
      ]
    },
    {
      "cell_type": "code",
      "execution_count": null,
      "metadata": {
        "id": "UePZZyi_Okdz",
        "outputId": "6e92d549-38b5-4534-ff1f-ce1d13e8cc0d"
      },
      "outputs": [
        {
          "data": {
            "text/html": [
              "<div>\n",
              "<style scoped>\n",
              "    .dataframe tbody tr th:only-of-type {\n",
              "        vertical-align: middle;\n",
              "    }\n",
              "\n",
              "    .dataframe tbody tr th {\n",
              "        vertical-align: top;\n",
              "    }\n",
              "\n",
              "    .dataframe thead th {\n",
              "        text-align: right;\n",
              "    }\n",
              "</style>\n",
              "<table border=\"1\" class=\"dataframe\">\n",
              "  <thead>\n",
              "    <tr style=\"text-align: right;\">\n",
              "      <th></th>\n",
              "      <th>satisfaction_level</th>\n",
              "      <th>last_evaluation</th>\n",
              "      <th>Projects</th>\n",
              "      <th>avg_hours</th>\n",
              "      <th>Tenure</th>\n",
              "      <th>left</th>\n",
              "      <th>Promoted</th>\n",
              "      <th>salary</th>\n",
              "    </tr>\n",
              "  </thead>\n",
              "  <tbody>\n",
              "    <tr>\n",
              "      <th>0</th>\n",
              "      <td>0.38</td>\n",
              "      <td>0.53</td>\n",
              "      <td>2</td>\n",
              "      <td>157</td>\n",
              "      <td>3</td>\n",
              "      <td>1</td>\n",
              "      <td>0</td>\n",
              "      <td>0</td>\n",
              "    </tr>\n",
              "    <tr>\n",
              "      <th>1</th>\n",
              "      <td>0.80</td>\n",
              "      <td>0.86</td>\n",
              "      <td>5</td>\n",
              "      <td>262</td>\n",
              "      <td>6</td>\n",
              "      <td>1</td>\n",
              "      <td>0</td>\n",
              "      <td>1</td>\n",
              "    </tr>\n",
              "    <tr>\n",
              "      <th>2</th>\n",
              "      <td>0.11</td>\n",
              "      <td>0.88</td>\n",
              "      <td>7</td>\n",
              "      <td>272</td>\n",
              "      <td>4</td>\n",
              "      <td>1</td>\n",
              "      <td>0</td>\n",
              "      <td>1</td>\n",
              "    </tr>\n",
              "    <tr>\n",
              "      <th>3</th>\n",
              "      <td>0.72</td>\n",
              "      <td>0.87</td>\n",
              "      <td>5</td>\n",
              "      <td>223</td>\n",
              "      <td>5</td>\n",
              "      <td>1</td>\n",
              "      <td>0</td>\n",
              "      <td>0</td>\n",
              "    </tr>\n",
              "    <tr>\n",
              "      <th>4</th>\n",
              "      <td>0.37</td>\n",
              "      <td>0.52</td>\n",
              "      <td>2</td>\n",
              "      <td>159</td>\n",
              "      <td>3</td>\n",
              "      <td>1</td>\n",
              "      <td>0</td>\n",
              "      <td>0</td>\n",
              "    </tr>\n",
              "  </tbody>\n",
              "</table>\n",
              "</div>"
            ],
            "text/plain": [
              "   satisfaction_level  last_evaluation  Projects  avg_hours  Tenure  left  \\\n",
              "0                0.38             0.53         2        157       3     1   \n",
              "1                0.80             0.86         5        262       6     1   \n",
              "2                0.11             0.88         7        272       4     1   \n",
              "3                0.72             0.87         5        223       5     1   \n",
              "4                0.37             0.52         2        159       3     1   \n",
              "\n",
              "   Promoted  salary  \n",
              "0         0       0  \n",
              "1         0       1  \n",
              "2         0       1  \n",
              "3         0       0  \n",
              "4         0       0  "
            ]
          },
          "execution_count": 24,
          "metadata": {},
          "output_type": "execute_result"
        }
      ],
      "source": [
        "df['salary'] = (df['salary'].astype('category').cat.set_categories(['low','medium','high']).cat.codes)\n",
        "df = df.drop(['Work_accident','Department'], axis=1)\n",
        "df.head()"
      ]
    },
    {
      "cell_type": "code",
      "execution_count": null,
      "metadata": {
        "id": "qbYkb88S3_ZH"
      },
      "outputs": [],
      "source": [
        "\n",
        "mask = (df['Tenure'] <= upp_lmt) & (df['Tenure'] >= lwr_lmt)\n",
        "df[mask]\n",
        "y = df['left']\n",
        "X = df.drop('left', axis=1)"
      ]
    },
    {
      "cell_type": "code",
      "execution_count": null,
      "metadata": {
        "id": "z-wYWkGH3_ZH",
        "outputId": "bad5fd09-d6f5-4641-c79f-b41bec6c6049"
      },
      "outputs": [
        {
          "data": {
            "text/plain": [
              "<matplotlib.axes._subplots.AxesSubplot at 0x7a8e73b9c550>"
            ]
          },
          "execution_count": 26,
          "metadata": {},
          "output_type": "execute_result"
        },
        {
          "data": {
            "image/png": "[encoded data removed]",
            "text/plain": [
              "<Figure size 432x288 with 2 Axes>"
            ]
          },
          "metadata": {
            "needs_background": "light"
          },
          "output_type": "display_data"
        }
      ],
      "source": [
        "sns.heatmap(X.corr(), annot=True, cmap='Blues', fmt='.2f')"
      ]
    },
    {
      "cell_type": "code",
      "execution_count": null,
      "metadata": {
        "id": "eydORahJ3_ZI",
        "outputId": "b8a1631f-8340-4d0d-d9e5-b75b590c7ea4"
      },
      "outputs": [
        {
          "data": {
            "text/html": [
              "<div>\n",
              "<style scoped>\n",
              "    .dataframe tbody tr th:only-of-type {\n",
              "        vertical-align: middle;\n",
              "    }\n",
              "\n",
              "    .dataframe tbody tr th {\n",
              "        vertical-align: top;\n",
              "    }\n",
              "\n",
              "    .dataframe thead th {\n",
              "        text-align: right;\n",
              "    }\n",
              "</style>\n",
              "<table border=\"1\" class=\"dataframe\">\n",
              "  <thead>\n",
              "    <tr style=\"text-align: right;\">\n",
              "      <th></th>\n",
              "      <th>variables</th>\n",
              "      <th>VIF</th>\n",
              "    </tr>\n",
              "  </thead>\n",
              "  <tbody>\n",
              "    <tr>\n",
              "      <th>0</th>\n",
              "      <td>satisfaction_level</td>\n",
              "      <td>6.7</td>\n",
              "    </tr>\n",
              "    <tr>\n",
              "      <th>1</th>\n",
              "      <td>last_evaluation</td>\n",
              "      <td>18.8</td>\n",
              "    </tr>\n",
              "    <tr>\n",
              "      <th>2</th>\n",
              "      <td>Projects</td>\n",
              "      <td>13.5</td>\n",
              "    </tr>\n",
              "    <tr>\n",
              "      <th>3</th>\n",
              "      <td>avg_hours</td>\n",
              "      <td>17.9</td>\n",
              "    </tr>\n",
              "    <tr>\n",
              "      <th>4</th>\n",
              "      <td>Tenure</td>\n",
              "      <td>7.1</td>\n",
              "    </tr>\n",
              "    <tr>\n",
              "      <th>5</th>\n",
              "      <td>Promoted</td>\n",
              "      <td>1.0</td>\n",
              "    </tr>\n",
              "    <tr>\n",
              "      <th>6</th>\n",
              "      <td>salary</td>\n",
              "      <td>1.9</td>\n",
              "    </tr>\n",
              "  </tbody>\n",
              "</table>\n",
              "</div>"
            ],
            "text/plain": [
              "            variables   VIF\n",
              "0  satisfaction_level   6.7\n",
              "1     last_evaluation  18.8\n",
              "2            Projects  13.5\n",
              "3           avg_hours  17.9\n",
              "4              Tenure   7.1\n",
              "5            Promoted   1.0\n",
              "6              salary   1.9"
            ]
          },
          "execution_count": 27,
          "metadata": {},
          "output_type": "execute_result"
        }
      ],
      "source": [
        "from statsmodels.stats.outliers_influence import variance_inflation_factor\n",
        "def calc_vif(X):\n",
        "    vif=pd.DataFrame()\n",
        "    vif['variables'] = X.columns\n",
        "    vif['VIF'] = [variance_inflation_factor(X.values,i).round(1) for i in range(X.shape[1])]\n",
        "    return(vif)\n",
        "calc_vif(X)"
      ]
    },
    {
      "cell_type": "code",
      "execution_count": null,
      "metadata": {
        "id": "ZDWHQYNP3_ZI",
        "outputId": "99df53c3-8fd4-4ad8-a03b-2bbbaf4e5091"
      },
      "outputs": [
        {
          "data": {
            "text/html": [
              "<div>\n",
              "<style scoped>\n",
              "    .dataframe tbody tr th:only-of-type {\n",
              "        vertical-align: middle;\n",
              "    }\n",
              "\n",
              "    .dataframe tbody tr th {\n",
              "        vertical-align: top;\n",
              "    }\n",
              "\n",
              "    .dataframe thead th {\n",
              "        text-align: right;\n",
              "    }\n",
              "</style>\n",
              "<table border=\"1\" class=\"dataframe\">\n",
              "  <thead>\n",
              "    <tr style=\"text-align: right;\">\n",
              "      <th></th>\n",
              "      <th>variables</th>\n",
              "      <th>VIF</th>\n",
              "    </tr>\n",
              "  </thead>\n",
              "  <tbody>\n",
              "    <tr>\n",
              "      <th>0</th>\n",
              "      <td>satisfaction_level</td>\n",
              "      <td>5.9</td>\n",
              "    </tr>\n",
              "    <tr>\n",
              "      <th>1</th>\n",
              "      <td>Projects</td>\n",
              "      <td>12.1</td>\n",
              "    </tr>\n",
              "    <tr>\n",
              "      <th>2</th>\n",
              "      <td>avg_hours</td>\n",
              "      <td>15.3</td>\n",
              "    </tr>\n",
              "    <tr>\n",
              "      <th>3</th>\n",
              "      <td>Tenure</td>\n",
              "      <td>6.8</td>\n",
              "    </tr>\n",
              "    <tr>\n",
              "      <th>4</th>\n",
              "      <td>Promoted</td>\n",
              "      <td>1.0</td>\n",
              "    </tr>\n",
              "    <tr>\n",
              "      <th>5</th>\n",
              "      <td>salary</td>\n",
              "      <td>1.9</td>\n",
              "    </tr>\n",
              "  </tbody>\n",
              "</table>\n",
              "</div>"
            ],
            "text/plain": [
              "            variables   VIF\n",
              "0  satisfaction_level   5.9\n",
              "1            Projects  12.1\n",
              "2           avg_hours  15.3\n",
              "3              Tenure   6.8\n",
              "4            Promoted   1.0\n",
              "5              salary   1.9"
            ]
          },
          "execution_count": 28,
          "metadata": {},
          "output_type": "execute_result"
        }
      ],
      "source": [
        "calc_vif(X.drop('last_evaluation', axis=1))"
      ]
    },
    {
      "cell_type": "code",
      "execution_count": null,
      "metadata": {
        "id": "uvFr08zq3_ZJ",
        "outputId": "396e58b5-b672-41c8-8678-fc6a4aaed9c7"
      },
      "outputs": [
        {
          "data": {
            "text/html": [
              "<div>\n",
              "<style scoped>\n",
              "    .dataframe tbody tr th:only-of-type {\n",
              "        vertical-align: middle;\n",
              "    }\n",
              "\n",
              "    .dataframe tbody tr th {\n",
              "        vertical-align: top;\n",
              "    }\n",
              "\n",
              "    .dataframe thead th {\n",
              "        text-align: right;\n",
              "    }\n",
              "</style>\n",
              "<table border=\"1\" class=\"dataframe\">\n",
              "  <thead>\n",
              "    <tr style=\"text-align: right;\">\n",
              "      <th></th>\n",
              "      <th>variables</th>\n",
              "      <th>VIF</th>\n",
              "    </tr>\n",
              "  </thead>\n",
              "  <tbody>\n",
              "    <tr>\n",
              "      <th>0</th>\n",
              "      <td>satisfaction_level</td>\n",
              "      <td>4.8</td>\n",
              "    </tr>\n",
              "    <tr>\n",
              "      <th>1</th>\n",
              "      <td>Projects</td>\n",
              "      <td>7.7</td>\n",
              "    </tr>\n",
              "    <tr>\n",
              "      <th>2</th>\n",
              "      <td>Tenure</td>\n",
              "      <td>6.3</td>\n",
              "    </tr>\n",
              "    <tr>\n",
              "      <th>3</th>\n",
              "      <td>Promoted</td>\n",
              "      <td>1.0</td>\n",
              "    </tr>\n",
              "    <tr>\n",
              "      <th>4</th>\n",
              "      <td>salary</td>\n",
              "      <td>1.9</td>\n",
              "    </tr>\n",
              "  </tbody>\n",
              "</table>\n",
              "</div>"
            ],
            "text/plain": [
              "            variables  VIF\n",
              "0  satisfaction_level  4.8\n",
              "1            Projects  7.7\n",
              "2              Tenure  6.3\n",
              "3            Promoted  1.0\n",
              "4              salary  1.9"
            ]
          },
          "execution_count": 29,
          "metadata": {},
          "output_type": "execute_result"
        }
      ],
      "source": [
        "calc_vif(X.drop(['avg_hours','last_evaluation'], axis=1))"
      ]
    },
    {
      "cell_type": "markdown",
      "metadata": {
        "id": "37u4jqna3_ZK"
      },
      "source": [
        "As we can observe from above VIF tables, with all the selected independent variables the multi-collinearity is very high. After removing avg_hours and last_evaluation the variables, then themulticollinearity between the variables got reduced. So we have to work on those two features as those factors are important in our model."
      ]
    },
    {
      "cell_type": "code",
      "execution_count": null,
      "metadata": {
        "id": "Q7S-cB4J3_ZK"
      },
      "outputs": [],
      "source": [
        "X['Overwork'] = (X['avg_hours'] > 176 ).astype(int)\n",
        "X = X.drop(['avg_hours'], axis=1)\n",
        "X['Emp_Perm_Satsfd'] = (X['last_evaluation'] >= 0.56).astype(int)\n",
        "X = X.drop(['last_evaluation','Projects'], axis=1)"
      ]
    },
    {
      "cell_type": "markdown",
      "metadata": {
        "id": "5IaKEOef3_ZK"
      },
      "source": [
        "As number of projects and tenure are interrelated, as number of years worked are more then number of projects will also be more."
      ]
    },
    {
      "cell_type": "code",
      "execution_count": null,
      "metadata": {
        "id": "EUEsb6VE3_ZL",
        "outputId": "c0ebd268-52fb-4a1b-8e61-1979f29934c8"
      },
      "outputs": [
        {
          "data": {
            "text/html": [
              "<div>\n",
              "<style scoped>\n",
              "    .dataframe tbody tr th:only-of-type {\n",
              "        vertical-align: middle;\n",
              "    }\n",
              "\n",
              "    .dataframe tbody tr th {\n",
              "        vertical-align: top;\n",
              "    }\n",
              "\n",
              "    .dataframe thead th {\n",
              "        text-align: right;\n",
              "    }\n",
              "</style>\n",
              "<table border=\"1\" class=\"dataframe\">\n",
              "  <thead>\n",
              "    <tr style=\"text-align: right;\">\n",
              "      <th></th>\n",
              "      <th>variables</th>\n",
              "      <th>VIF</th>\n",
              "    </tr>\n",
              "  </thead>\n",
              "  <tbody>\n",
              "    <tr>\n",
              "      <th>0</th>\n",
              "      <td>satisfaction_level</td>\n",
              "      <td>5.0</td>\n",
              "    </tr>\n",
              "    <tr>\n",
              "      <th>1</th>\n",
              "      <td>Tenure</td>\n",
              "      <td>4.6</td>\n",
              "    </tr>\n",
              "    <tr>\n",
              "      <th>2</th>\n",
              "      <td>Promoted</td>\n",
              "      <td>1.0</td>\n",
              "    </tr>\n",
              "    <tr>\n",
              "      <th>3</th>\n",
              "      <td>salary</td>\n",
              "      <td>1.9</td>\n",
              "    </tr>\n",
              "    <tr>\n",
              "      <th>4</th>\n",
              "      <td>Overwork</td>\n",
              "      <td>2.8</td>\n",
              "    </tr>\n",
              "    <tr>\n",
              "      <th>5</th>\n",
              "      <td>Emp_Perm_Satsfd</td>\n",
              "      <td>4.4</td>\n",
              "    </tr>\n",
              "  </tbody>\n",
              "</table>\n",
              "</div>"
            ],
            "text/plain": [
              "            variables  VIF\n",
              "0  satisfaction_level  5.0\n",
              "1              Tenure  4.6\n",
              "2            Promoted  1.0\n",
              "3              salary  1.9\n",
              "4            Overwork  2.8\n",
              "5     Emp_Perm_Satsfd  4.4"
            ]
          },
          "execution_count": 31,
          "metadata": {},
          "output_type": "execute_result"
        }
      ],
      "source": [
        "calc_vif(X)"
      ]
    },
    {
      "cell_type": "code",
      "execution_count": null,
      "metadata": {
        "id": "wgmIDJy13_ZL",
        "outputId": "df5fd554-de77-4a18-a365-925b327963b9"
      },
      "outputs": [
        {
          "data": {
            "text/plain": [
              "11991"
            ]
          },
          "execution_count": 32,
          "metadata": {},
          "output_type": "execute_result"
        }
      ],
      "source": [
        "X.shape[0]"
      ]
    },
    {
      "cell_type": "code",
      "execution_count": null,
      "metadata": {
        "id": "d-tA4G8R3_ZM",
        "outputId": "044c9a7e-ba51-4700-cfa2-b34186863b18"
      },
      "outputs": [
        {
          "data": {
            "text/html": [
              "<div>\n",
              "<style scoped>\n",
              "    .dataframe tbody tr th:only-of-type {\n",
              "        vertical-align: middle;\n",
              "    }\n",
              "\n",
              "    .dataframe tbody tr th {\n",
              "        vertical-align: top;\n",
              "    }\n",
              "\n",
              "    .dataframe thead th {\n",
              "        text-align: right;\n",
              "    }\n",
              "</style>\n",
              "<table border=\"1\" class=\"dataframe\">\n",
              "  <thead>\n",
              "    <tr style=\"text-align: right;\">\n",
              "      <th></th>\n",
              "      <th>Actual</th>\n",
              "      <th>predicted</th>\n",
              "    </tr>\n",
              "  </thead>\n",
              "  <tbody>\n",
              "    <tr>\n",
              "      <th>397</th>\n",
              "      <td>1</td>\n",
              "      <td>1</td>\n",
              "    </tr>\n",
              "    <tr>\n",
              "      <th>3107</th>\n",
              "      <td>0</td>\n",
              "      <td>0</td>\n",
              "    </tr>\n",
              "    <tr>\n",
              "      <th>9331</th>\n",
              "      <td>0</td>\n",
              "      <td>0</td>\n",
              "    </tr>\n",
              "    <tr>\n",
              "      <th>357</th>\n",
              "      <td>1</td>\n",
              "      <td>0</td>\n",
              "    </tr>\n",
              "    <tr>\n",
              "      <th>1326</th>\n",
              "      <td>1</td>\n",
              "      <td>1</td>\n",
              "    </tr>\n",
              "    <tr>\n",
              "      <th>...</th>\n",
              "      <td>...</td>\n",
              "      <td>...</td>\n",
              "    </tr>\n",
              "    <tr>\n",
              "      <th>7337</th>\n",
              "      <td>0</td>\n",
              "      <td>0</td>\n",
              "    </tr>\n",
              "    <tr>\n",
              "      <th>376</th>\n",
              "      <td>1</td>\n",
              "      <td>0</td>\n",
              "    </tr>\n",
              "    <tr>\n",
              "      <th>2467</th>\n",
              "      <td>0</td>\n",
              "      <td>0</td>\n",
              "    </tr>\n",
              "    <tr>\n",
              "      <th>6014</th>\n",
              "      <td>0</td>\n",
              "      <td>0</td>\n",
              "    </tr>\n",
              "    <tr>\n",
              "      <th>6152</th>\n",
              "      <td>0</td>\n",
              "      <td>0</td>\n",
              "    </tr>\n",
              "  </tbody>\n",
              "</table>\n",
              "<p>2998 rows × 2 columns</p>\n",
              "</div>"
            ],
            "text/plain": [
              "      Actual  predicted\n",
              "397        1          1\n",
              "3107       0          0\n",
              "9331       0          0\n",
              "357        1          0\n",
              "1326       1          1\n",
              "...      ...        ...\n",
              "7337       0          0\n",
              "376        1          0\n",
              "2467       0          0\n",
              "6014       0          0\n",
              "6152       0          0\n",
              "\n",
              "[2998 rows x 2 columns]"
            ]
          },
          "execution_count": 33,
          "metadata": {},
          "output_type": "execute_result"
        }
      ],
      "source": [
        "X_train, X_test, y_train, y_test = train_test_split(X,y,test_size=0.25,random_state=42)\n",
        "LR = LogisticRegression()\n",
        "Model = LR.fit(X_train,y_train)\n",
        "y_pred = Model.predict(X_test)\n",
        "Prediction = pd.DataFrame({'Actual':y_test, 'predicted':y_pred})\n",
        "Prediction"
      ]
    },
    {
      "cell_type": "markdown",
      "metadata": {
        "id": "ex8pgn5iNzau"
      },
      "source": [
        "✏\n",
        "## Recall evaluation metrics\n",
        "\n",
        "- **AUC** is the area under the ROC curve; it's also considered the probability that the model ranks a random positive example more highly than a random negative example.\n",
        "- **Precision** measures the proportion of data points predicted as True that are actually True, in other words, the proportion of positive predictions that are true positives.\n",
        "- **Recall** measures the proportion of data points that are predicted as True, out of all the data points that are actually True. In other words, it measures the proportion of positives that are correctly classified.\n",
        "- **Accuracy** measures the proportion of data points that are correctly classified.\n",
        "- **F1-score** is an aggregation of precision and recall.\n",
        "\n",
        "\n",
        "\n",
        "\n"
      ]
    },
    {
      "cell_type": "code",
      "execution_count": null,
      "metadata": {
        "id": "by-YLmeI3_ZM",
        "outputId": "3e0e45d6-af22-4d31-a953-c4f3addac100"
      },
      "outputs": [
        {
          "name": "stdout",
          "output_type": "stream",
          "text": [
            "                          precision    recall  f1-score   support\n",
            "\n",
            "Predicted will not leave       0.85      0.97      0.90      2501\n",
            "    Predicted will leave       0.44      0.13      0.21       497\n",
            "\n",
            "                accuracy                           0.83      2998\n",
            "               macro avg       0.65      0.55      0.56      2998\n",
            "            weighted avg       0.78      0.83      0.79      2998\n",
            "\n"
          ]
        }
      ],
      "source": [
        "target_predictions = ['Predicted will not leave', 'Predicted will leave']\n",
        "print(classification_report(y_test, y_pred, target_names=target_predictions))"
      ]
    },
    {
      "cell_type": "code",
      "execution_count": null,
      "metadata": {
        "id": "BbKiEmQy3_ZN",
        "outputId": "6f78c610-b8cf-4a15-d6cb-784dffa23b05"
      },
      "outputs": [
        {
          "data": {
            "text/plain": [
              "<sklearn.metrics._plot.confusion_matrix.ConfusionMatrixDisplay at 0x7a8e73895950>"
            ]
          },
          "execution_count": 35,
          "metadata": {},
          "output_type": "execute_result"
        },
        {
          "data": {
            "image/png": "[encoded data removed]",
            "text/plain": [
              "<Figure size 432x288 with 2 Axes>"
            ]
          },
          "metadata": {
            "needs_background": "light"
          },
          "output_type": "display_data"
        }
      ],
      "source": [
        "cm = confusion_matrix(y_test, y_pred, labels=Model.classes_)\n",
        "disp = ConfusionMatrixDisplay(confusion_matrix=cm, display_labels=Model.classes_)\n",
        "disp.plot()"
      ]
    },
    {
      "cell_type": "markdown",
      "metadata": {
        "id": "s7LiASST3_ZN"
      },
      "source": [
        "True negatives are more that is actually the employee was not left and predicted also not left.\n",
        "\n",
        "True positives are 67 which means actually employees left and predicted also left.\n",
        "\n",
        "False positives are 84 which means actually person not left but predicted as left\n",
        "\n",
        "False Negatives are nearly 400 which represents employee left but predicted as employee stayed.\n",
        "\n",
        "Logistic Regression model performance score is 79%, which is actually a good score."
      ]
    },
    {
      "cell_type": "markdown",
      "source": [
        "**Random Forest Classifier**"
      ],
      "metadata": {
        "id": "JSU2pMOqBkW7"
      }
    },
    {
      "cell_type": "code",
      "execution_count": null,
      "metadata": {
        "id": "RNoDZYQH3_ZN",
        "outputId": "5b1476de-9a3a-477a-d278-339e55532175"
      },
      "outputs": [
        {
          "data": {
            "text/html": [
              "<div>\n",
              "<style scoped>\n",
              "    .dataframe tbody tr th:only-of-type {\n",
              "        vertical-align: middle;\n",
              "    }\n",
              "\n",
              "    .dataframe tbody tr th {\n",
              "        vertical-align: top;\n",
              "    }\n",
              "\n",
              "    .dataframe thead th {\n",
              "        text-align: right;\n",
              "    }\n",
              "</style>\n",
              "<table border=\"1\" class=\"dataframe\">\n",
              "  <thead>\n",
              "    <tr style=\"text-align: right;\">\n",
              "      <th></th>\n",
              "      <th>Actual</th>\n",
              "      <th>predicted</th>\n",
              "    </tr>\n",
              "  </thead>\n",
              "  <tbody>\n",
              "    <tr>\n",
              "      <th>397</th>\n",
              "      <td>1</td>\n",
              "      <td>1</td>\n",
              "    </tr>\n",
              "    <tr>\n",
              "      <th>3107</th>\n",
              "      <td>0</td>\n",
              "      <td>0</td>\n",
              "    </tr>\n",
              "    <tr>\n",
              "      <th>9331</th>\n",
              "      <td>0</td>\n",
              "      <td>0</td>\n",
              "    </tr>\n",
              "    <tr>\n",
              "      <th>357</th>\n",
              "      <td>1</td>\n",
              "      <td>1</td>\n",
              "    </tr>\n",
              "    <tr>\n",
              "      <th>1326</th>\n",
              "      <td>1</td>\n",
              "      <td>1</td>\n",
              "    </tr>\n",
              "    <tr>\n",
              "      <th>...</th>\n",
              "      <td>...</td>\n",
              "      <td>...</td>\n",
              "    </tr>\n",
              "    <tr>\n",
              "      <th>7337</th>\n",
              "      <td>0</td>\n",
              "      <td>0</td>\n",
              "    </tr>\n",
              "    <tr>\n",
              "      <th>376</th>\n",
              "      <td>1</td>\n",
              "      <td>0</td>\n",
              "    </tr>\n",
              "    <tr>\n",
              "      <th>2467</th>\n",
              "      <td>0</td>\n",
              "      <td>0</td>\n",
              "    </tr>\n",
              "    <tr>\n",
              "      <th>6014</th>\n",
              "      <td>0</td>\n",
              "      <td>0</td>\n",
              "    </tr>\n",
              "    <tr>\n",
              "      <th>6152</th>\n",
              "      <td>0</td>\n",
              "      <td>0</td>\n",
              "    </tr>\n",
              "  </tbody>\n",
              "</table>\n",
              "<p>2998 rows × 2 columns</p>\n",
              "</div>"
            ],
            "text/plain": [
              "      Actual  predicted\n",
              "397        1          1\n",
              "3107       0          0\n",
              "9331       0          0\n",
              "357        1          1\n",
              "1326       1          1\n",
              "...      ...        ...\n",
              "7337       0          0\n",
              "376        1          0\n",
              "2467       0          0\n",
              "6014       0          0\n",
              "6152       0          0\n",
              "\n",
              "[2998 rows x 2 columns]"
            ]
          },
          "execution_count": 36,
          "metadata": {},
          "output_type": "execute_result"
        }
      ],
      "source": [
        "from sklearn.ensemble import RandomForestClassifier\n",
        "RF = RandomForestClassifier(n_estimators=100)\n",
        "Model2 = RF.fit(X_train,y_train)\n",
        "y_pred2 = Model2.predict(X_test)\n",
        "Prediction = pd.DataFrame({'Actual':y_test, 'predicted':y_pred2})\n",
        "Prediction\n"
      ]
    },
    {
      "cell_type": "code",
      "execution_count": null,
      "metadata": {
        "id": "P6pzt2UJ3_ZN",
        "outputId": "1635beef-103b-4ace-daa8-73f30f47ee10"
      },
      "outputs": [
        {
          "name": "stdout",
          "output_type": "stream",
          "text": [
            "                          precision    recall  f1-score   support\n",
            "\n",
            "Predicted will not leave       0.98      0.98      0.98      2501\n",
            "    Predicted will leave       0.89      0.88      0.88       497\n",
            "\n",
            "                accuracy                           0.96      2998\n",
            "               macro avg       0.93      0.93      0.93      2998\n",
            "            weighted avg       0.96      0.96      0.96      2998\n",
            "\n"
          ]
        }
      ],
      "source": [
        "target_predictions = ['Predicted will not leave', 'Predicted will leave']\n",
        "print(classification_report(y_test, y_pred2, target_names=target_predictions))"
      ]
    },
    {
      "cell_type": "code",
      "execution_count": null,
      "metadata": {
        "id": "vh6QcjB53_ZO",
        "outputId": "19ed950b-f367-4226-a60c-539fb8e8e19e"
      },
      "outputs": [
        {
          "data": {
            "text/plain": [
              "<sklearn.metrics._plot.confusion_matrix.ConfusionMatrixDisplay at 0x7a8e737bf910>"
            ]
          },
          "execution_count": 38,
          "metadata": {},
          "output_type": "execute_result"
        },
        {
          "data": {
            "image/png": "[encoded data removed]",
            "text/plain": [
              "<Figure size 432x288 with 2 Axes>"
            ]
          },
          "metadata": {
            "needs_background": "light"
          },
          "output_type": "display_data"
        }
      ],
      "source": [
        "cm = confusion_matrix(y_test, y_pred2, labels=Model.classes_)\n",
        "disp = ConfusionMatrixDisplay(confusion_matrix=cm, display_labels=Model.classes_)\n",
        "disp.plot()"
      ]
    },
    {
      "cell_type": "markdown",
      "metadata": {
        "id": "6pBUk35yTDaL"
      },
      "source": [
        "## Step 4. Results and Evaluation\n",
        "- Interpret model\n",
        "- Evaluate model performance using metrics\n",
        "- Prepare results, visualizations, and actionable steps to share with stakeholders\n",
        "\n",
        "\n"
      ]
    },
    {
      "cell_type": "markdown",
      "metadata": {
        "id": "h-3dY2dn3_ZO"
      },
      "source": [
        "True negatives are more that is actually the employee was not left and predicted also not left.\n",
        "\n",
        "True positives are less than or nearly to 500 which means actually employees left and predicted also left.\n",
        "\n",
        "False positives are 54 which means actually person not left but predicted as left\n",
        "\n",
        "False Negatives are 61 which represents employee left but predicted as employee stayed.\n",
        "\n",
        "Random Forest Model's Accuracy & f1-score is 96% which is a good score compared to Logistic Regression whose model performance is 79%.  "
      ]
    },
    {
      "cell_type": "code",
      "execution_count": null,
      "metadata": {
        "id": "WJEo2_jg3_ZO"
      },
      "outputs": [],
      "source": [
        "test_df = pd.DataFrame({'True': y_test, 'Logistic': y_pred, 'RandomForest': y_pred2})"
      ]
    },
    {
      "cell_type": "code",
      "execution_count": null,
      "metadata": {
        "id": "5wKyDQ9e3_ZO",
        "outputId": "4865e9c5-1042-456b-f056-1ef1b11e97d3"
      },
      "outputs": [
        {
          "data": {
            "image/png": "[encoded data removed]",
            "text/plain": [
              "<Figure size 504x360 with 1 Axes>"
            ]
          },
          "metadata": {
            "needs_background": "light"
          },
          "output_type": "display_data"
        }
      ],
      "source": [
        "from sklearn.metrics import auc, roc_curve\n",
        "plt.figure(figsize=(7, 5))\n",
        "\n",
        "for models in ['Logistic', 'RandomForest']:\n",
        "    fpr, tpr, _ = roc_curve(y_test, test_df[models])\n",
        "    roc_auc = auc(fpr, tpr)\n",
        "    plt.plot(fpr, tpr, label=f'{models} (AUC = {roc_auc:.2f})')\n",
        "\n",
        "plt.plot([0, 1], [0, 1], 'r--', label='Random Guess')\n",
        "\n",
        "plt.xlabel('False Positive Rate')\n",
        "plt.ylabel('True Positive Rate')\n",
        "plt.title('ROC Curves for Two Models')\n",
        "plt.legend()\n",
        "plt.show()"
      ]
    },
    {
      "cell_type": "markdown",
      "source": [
        "**Feature Importance**"
      ],
      "metadata": {
        "id": "eQ1-X6R9ByBg"
      }
    },
    {
      "cell_type": "code",
      "execution_count": null,
      "metadata": {
        "id": "pt5Z26Uh3_ZP",
        "outputId": "ecfc23bc-7edd-4510-ce8a-558206ba2f85"
      },
      "outputs": [
        {
          "data": {
            "text/html": [
              "<div>\n",
              "<style scoped>\n",
              "    .dataframe tbody tr th:only-of-type {\n",
              "        vertical-align: middle;\n",
              "    }\n",
              "\n",
              "    .dataframe tbody tr th {\n",
              "        vertical-align: top;\n",
              "    }\n",
              "\n",
              "    .dataframe thead th {\n",
              "        text-align: right;\n",
              "    }\n",
              "</style>\n",
              "<table border=\"1\" class=\"dataframe\">\n",
              "  <thead>\n",
              "    <tr style=\"text-align: right;\">\n",
              "      <th></th>\n",
              "      <th>gini_importance</th>\n",
              "    </tr>\n",
              "  </thead>\n",
              "  <tbody>\n",
              "    <tr>\n",
              "      <th>satisfaction_level</th>\n",
              "      <td>0.598212</td>\n",
              "    </tr>\n",
              "    <tr>\n",
              "      <th>Tenure</th>\n",
              "      <td>0.275305</td>\n",
              "    </tr>\n",
              "    <tr>\n",
              "      <th>Overwork</th>\n",
              "      <td>0.064857</td>\n",
              "    </tr>\n",
              "    <tr>\n",
              "      <th>Emp_Perm_Satsfd</th>\n",
              "      <td>0.041843</td>\n",
              "    </tr>\n",
              "    <tr>\n",
              "      <th>salary</th>\n",
              "      <td>0.017457</td>\n",
              "    </tr>\n",
              "    <tr>\n",
              "      <th>Promoted</th>\n",
              "      <td>0.002327</td>\n",
              "    </tr>\n",
              "  </tbody>\n",
              "</table>\n",
              "</div>"
            ],
            "text/plain": [
              "                    gini_importance\n",
              "satisfaction_level         0.598212\n",
              "Tenure                     0.275305\n",
              "Overwork                   0.064857\n",
              "Emp_Perm_Satsfd            0.041843\n",
              "salary                     0.017457\n",
              "Promoted                   0.002327"
            ]
          },
          "execution_count": 42,
          "metadata": {},
          "output_type": "execute_result"
        }
      ],
      "source": [
        "importances = pd.DataFrame(Model2.feature_importances_,\n",
        "                                 columns=['gini_importance'],\n",
        "                                 index=X.columns\n",
        "                                )\n",
        "importances = importances.sort_values(by='gini_importance', ascending=False)\n",
        "importances\n"
      ]
    },
    {
      "cell_type": "code",
      "execution_count": null,
      "metadata": {
        "id": "_qp5wEEZ3_ZP",
        "outputId": "f635c4c9-87fa-47f9-a362-70008129aeb4"
      },
      "outputs": [
        {
          "data": {
            "image/png": "[encoded data removed]",
            "text/plain": [
              "<Figure size 432x288 with 1 Axes>"
            ]
          },
          "metadata": {
            "needs_background": "light"
          },
          "output_type": "display_data"
        }
      ],
      "source": [
        "sns.barplot(data=importances, x=\"gini_importance\", y=importances.index, orient='h', palette='YlGn')\n",
        "plt.title(\"Feature Importances for Employee Retention\", fontsize=12)\n",
        "plt.ylabel(\"Feature\")\n",
        "plt.xlabel(\"Importance\")\n",
        "plt.show()"
      ]
    },
    {
      "cell_type": "markdown",
      "metadata": {
        "id": "aF1C4CBhLXbN"
      },
      "source": [
        "Double-click to enter your responses here."
      ]
    },
    {
      "cell_type": "markdown",
      "metadata": {
        "id": "GXrsxT498Z7h"
      },
      "source": [
        "### Summary of model results\n",
        "\n",
        "Random Forest Model's Accuracy & f1-score is 96% which is a good score compared to Logistic Regression whose model performance is 79%."
      ]
    },
    {
      "cell_type": "markdown",
      "metadata": {
        "id": "9MOMqelNLn2v"
      },
      "source": [
        "### Conclusion, Recommendations\n",
        "\n",
        "Employee satisfaction, number of years worked and overtime work are the factors mainly effecting the employee's retention.\n",
        "So, they have to still conduct a survey on particularly satisfaction, like which factors makes them to leave the company like salary hike, overtime, promotions.\n",
        "And most of the employees left are the persons who worked between 2-6 years. So, the company have to grant salary hike and additional benefits for those employees who worked for more than 2 years. And promotions for those who worked for more than 4 years.\n",
        "Overworked employees should get more pay."
      ]
    }
  ],
  "metadata": {
    "colab": {
      "provenance": []
    },
    "gpuClass": "standard",
    "kernelspec": {
      "display_name": "Python 3",
      "language": "python",
      "name": "python3"
    },
    "language_info": {
      "codemirror_mode": {
        "name": "ipython",
        "version": 3
      },
      "file_extension": ".py",
      "mimetype": "text/x-python",
      "name": "python",
      "nbconvert_exporter": "python",
      "pygments_lexer": "ipython3",
      "version": "3.7.6"
    }
  },
  "nbformat": 4,
  "nbformat_minor": 0
}